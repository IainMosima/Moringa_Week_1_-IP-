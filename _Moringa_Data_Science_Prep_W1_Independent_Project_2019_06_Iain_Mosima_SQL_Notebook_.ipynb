{
  "nbformat": 4,
  "nbformat_minor": 0,
  "metadata": {
    "colab": {
      "name": "\"Moringa_Data_Science_Prep_W1_Independent_Project_2019_06_Iain_Mosima_SQL_Notebook\"",
      "provenance": [],
      "toc_visible": true
    },
    "kernelspec": {
      "name": "python3",
      "display_name": "Python 3"
    },
    "language_info": {
      "name": "python"
    }
  },
  "cells": [
    {
      "cell_type": "markdown",
      "metadata": {
        "id": "yJXx4Iq9H4jc"
      },
      "source": [
        "## **SQL PROGAMMING**\n"
      ]
    },
    {
      "cell_type": "markdown",
      "metadata": {
        "id": "cCWVQxKOIAVT"
      },
      "source": [
        "**SQL Programming Questions**\n",
        "1. Display a list of Sub Counties and their population and areas.\n",
        "2. Sort the list of districts by total crop area (descending order).\n",
        "3. Select only the Sub counties from the Moroto district, order them alphabetically and show their production of sorghum.\n",
        "4. Compute the total Maize production per District.\n",
        "5. Compute the number of Sub counties where Maize is produced and the total Maize production per District.\n",
        "6. Compute the overall Crop area in all Sub counties where population is over 20000.\n",
        "7. Sort the Maize production in descending order by Districts, only taking into account Sub counties where Maize area is larger than Sorghum area, and display the number of Sub counties per district matching that criteria.\n",
        "\n",
        "**Dataset Description**\n",
        "This dataset contains yield and population per subcounty.  The dataset for the above questions can be found here. [https://drive.google.com/a/moringaschool.com/file/d/1pWXDvs33OoULTH4kdzhGTUxJmp0dSgZq/view?usp=sharing]\n",
        "\n",
        "The glossary for this table is as follows:\n",
        "\n",
        "* POP: total population for the subcounty\n",
        "* S_Yield_Ha: average yield for sorghum for the subcounty (Kg/Ha)\n",
        "* M_Yield_Ha: average yield for maize for the subcounty (Kg/Ha)\n",
        "* Crop_Area_Ha: total crop area for the subcounty (Ha)\n",
        "* S_Area_Ha: total sorghum crop area for the subcounty (Ha)\n",
        "* M_Area_Ha: total maize crop area for the subcounty (Ha)\n",
        "* S_Prod_Tot: total productivity for the sorghum for the subcounty (Kg)\n",
        "* M_Prod_Tot: total productivity for the maize for the subcounty (Kg)\n",
        "\n",
        "\n"
      ]
    },
    {
      "cell_type": "markdown",
      "metadata": {
        "id": "I2eYytpqOJhU"
      },
      "source": [
        "# **1.1 Connecting to the sql Database**"
      ]
    },
    {
      "cell_type": "code",
      "metadata": {
        "colab": {
          "base_uri": "https://localhost:8080/",
          "height": 35
        },
        "id": "yj64nrkSH5Wy",
        "outputId": "cee49537-df58-47a6-b606-428d3fab673c"
      },
      "source": [
        "# First load the sql extension into our environment\n",
        "%load_ext sql\n",
        "# Then connect to our in memory sqlite database\n",
        "%sql sqlite://"
      ],
      "execution_count": 1,
      "outputs": [
        {
          "output_type": "execute_result",
          "data": {
            "application/vnd.google.colaboratory.intrinsic+json": {
              "type": "string"
            },
            "text/plain": [
              "'Connected: @None'"
            ]
          },
          "metadata": {
            "tags": []
          },
          "execution_count": 1
        }
      ]
    },
    {
      "cell_type": "markdown",
      "metadata": {
        "id": "g9dpCYoXOlGH"
      },
      "source": [
        "# **1.2 Importing Data from the CSV file**"
      ]
    },
    {
      "cell_type": "code",
      "metadata": {
        "id": "JUd1-6hkOxCy"
      },
      "source": [
        "# First import the python csv library, this will enable the csv file\n",
        "# to be uploaded in the environment\n",
        "import csv\n",
        "#Second import the pandas library which is used for data manipulation in this notebook.\n",
        "import pandas as pd"
      ],
      "execution_count": 2,
      "outputs": []
    },
    {
      "cell_type": "code",
      "metadata": {
        "colab": {
          "base_uri": "https://localhost:8080/",
          "height": 90
        },
        "id": "qrCnApHwPu3g",
        "outputId": "ac4957de-ed57-4295-97b4-faad401ac70c"
      },
      "source": [
        "# Loading data from the existing csv file.\n",
        "with open('/content/Uganda_Karamoja_Subcounty_Crop_Yield_Population.csv', 'r') as f: # the path of the csv file\n",
        "          Uganda = pd.read_csv(f, index_col = 0, encoding = 'utf-8') # tell pandas to use the row indexes as the row labels.\n",
        "# Then push the  ugandam data into a new table within the current SQLite Database \n",
        "%sql DROP TABLE if EXISTS Uganda;\n",
        "%sql PERSIST Uganda;"
      ],
      "execution_count": 3,
      "outputs": [
        {
          "output_type": "stream",
          "text": [
            " * sqlite://\n",
            "Done.\n",
            " * sqlite://\n"
          ],
          "name": "stdout"
        },
        {
          "output_type": "execute_result",
          "data": {
            "application/vnd.google.colaboratory.intrinsic+json": {
              "type": "string"
            },
            "text/plain": [
              "'Persisted uganda'"
            ]
          },
          "metadata": {
            "tags": []
          },
          "execution_count": 3
        }
      ]
    },
    {
      "cell_type": "code",
      "metadata": {
        "colab": {
          "base_uri": "https://localhost:8080/",
          "height": 199
        },
        "id": "kgrLe95CRI6A",
        "outputId": "2e0bdf0f-90fc-479e-8c67-7d6186f1dab6"
      },
      "source": [
        "# Previewing the uganda table\n",
        "%sql SELECT * FROM Uganda LIMIT 5;"
      ],
      "execution_count": 4,
      "outputs": [
        {
          "output_type": "stream",
          "text": [
            " * sqlite://\n",
            "Done.\n"
          ],
          "name": "stdout"
        },
        {
          "output_type": "execute_result",
          "data": {
            "text/html": [
              "<table>\n",
              "    <thead>\n",
              "        <tr>\n",
              "            <th>OBJECTID</th>\n",
              "            <th>SUBCOUNTY_NAME</th>\n",
              "            <th>DISTRICT_NAME</th>\n",
              "            <th>POP</th>\n",
              "            <th>Area</th>\n",
              "            <th>Karamoja</th>\n",
              "            <th>S_Yield_Ha</th>\n",
              "            <th>M_Yield_Ha</th>\n",
              "            <th>Crop_Area_Ha</th>\n",
              "            <th>S_Area_Ha</th>\n",
              "            <th>M_Area_Ha</th>\n",
              "            <th>S_Prod_Tot</th>\n",
              "            <th>M_Prod_Tot</th>\n",
              "        </tr>\n",
              "    </thead>\n",
              "    <tbody>\n",
              "        <tr>\n",
              "            <td>263</td>\n",
              "            <td>KACHERI</td>\n",
              "            <td>KOTIDO</td>\n",
              "            <td>17244</td>\n",
              "            <td>1067176155</td>\n",
              "            <td>Y</td>\n",
              "            <td>354.20741069999997</td>\n",
              "            <td>1137.467019</td>\n",
              "            <td>7023.533691</td>\n",
              "            <td>6434.342449</td>\n",
              "            <td>528.1242294</td>\n",
              "            <td>2279091.779</td>\n",
              "            <td>600723.8929</td>\n",
              "        </tr>\n",
              "        <tr>\n",
              "            <td>264</td>\n",
              "            <td>KOTIDO</td>\n",
              "            <td>KOTIDO</td>\n",
              "            <td>52771</td>\n",
              "            <td>597575188</td>\n",
              "            <td>Y</td>\n",
              "            <td>367.89052319999996</td>\n",
              "            <td>1162.9966869999998</td>\n",
              "            <td>13587.990759999999</td>\n",
              "            <td>12455.59264</td>\n",
              "            <td>824.7670809</td>\n",
              "            <td>4582294.492</td>\n",
              "            <td>959201.3825</td>\n",
              "        </tr>\n",
              "        <tr>\n",
              "            <td>265</td>\n",
              "            <td>KOTIDO TOWN COUNCIL</td>\n",
              "            <td>KOTIDO</td>\n",
              "            <td>27389</td>\n",
              "            <td>23972401</td>\n",
              "            <td>Y</td>\n",
              "            <td>369.3141771</td>\n",
              "            <td>1167.005832</td>\n",
              "            <td>1656.5318550000002</td>\n",
              "            <td>1520.322052</td>\n",
              "            <td>8.561643817</td>\n",
              "            <td>561476.4874</td>\n",
              "            <td>9991.488268000001</td>\n",
              "        </tr>\n",
              "        <tr>\n",
              "            <td>266</td>\n",
              "            <td>NAKAPERIMORU</td>\n",
              "            <td>KOTIDO</td>\n",
              "            <td>38775</td>\n",
              "            <td>419111591</td>\n",
              "            <td>Y</td>\n",
              "            <td>283.3245689</td>\n",
              "            <td>852.3665784</td>\n",
              "            <td>7087.823334000001</td>\n",
              "            <td>6761.488901000001</td>\n",
              "            <td>45.72171184</td>\n",
              "            <td>1915695.928</td>\n",
              "            <td>38971.65908</td>\n",
              "        </tr>\n",
              "        <tr>\n",
              "            <td>267</td>\n",
              "            <td>PANYANGARA</td>\n",
              "            <td>KOTIDO</td>\n",
              "            <td>65704</td>\n",
              "            <td>880955930</td>\n",
              "            <td>Y</td>\n",
              "            <td>373.8369255</td>\n",
              "            <td>1283.859882</td>\n",
              "            <td>10398.24939</td>\n",
              "            <td>10111.198129999999</td>\n",
              "            <td>172.6119139</td>\n",
              "            <td>3779939.224</td>\n",
              "            <td>221609.5114</td>\n",
              "        </tr>\n",
              "    </tbody>\n",
              "</table>"
            ],
            "text/plain": [
              "[(263, 'KACHERI', 'KOTIDO', 17244, 1067176155, 'Y', 354.20741069999997, 1137.467019, 7023.533691, 6434.342449, 528.1242294, 2279091.779, 600723.8929),\n",
              " (264, 'KOTIDO', 'KOTIDO', 52771, 597575188, 'Y', 367.89052319999996, 1162.9966869999998, 13587.990759999999, 12455.59264, 824.7670809, 4582294.492, 959201.3825),\n",
              " (265, 'KOTIDO TOWN COUNCIL', 'KOTIDO', 27389, 23972401, 'Y', 369.3141771, 1167.005832, 1656.5318550000002, 1520.322052, 8.561643817, 561476.4874, 9991.488268000001),\n",
              " (266, 'NAKAPERIMORU', 'KOTIDO', 38775, 419111591, 'Y', 283.3245689, 852.3665784, 7087.823334000001, 6761.488901000001, 45.72171184, 1915695.928, 38971.65908),\n",
              " (267, 'PANYANGARA', 'KOTIDO', 65704, 880955930, 'Y', 373.8369255, 1283.859882, 10398.24939, 10111.198129999999, 172.6119139, 3779939.224, 221609.5114)]"
            ]
          },
          "metadata": {
            "tags": []
          },
          "execution_count": 4
        }
      ]
    },
    {
      "cell_type": "markdown",
      "metadata": {
        "id": "jhhVsa0aRpaJ"
      },
      "source": [
        "# **1.3 QUESTIONS**\n"
      ]
    },
    {
      "cell_type": "markdown",
      "metadata": {
        "id": "pmEal-nqRyij"
      },
      "source": [
        "# **1.3.1 Display a list of Sub Counties and their population and areas.**"
      ]
    },
    {
      "cell_type": "code",
      "metadata": {
        "colab": {
          "base_uri": "https://localhost:8080/",
          "height": 1000
        },
        "id": "IDtbQqjeR8T_",
        "outputId": "b74d2cdc-c500-4134-f31b-4e6efa2d84c0"
      },
      "source": [
        "%%sql\n",
        "SELECT SUBCOUNTY_NAME, POP, Area FROM Uganda;"
      ],
      "execution_count": 5,
      "outputs": [
        {
          "output_type": "stream",
          "text": [
            " * sqlite://\n",
            "Done.\n"
          ],
          "name": "stdout"
        },
        {
          "output_type": "execute_result",
          "data": {
            "text/html": [
              "<table>\n",
              "    <thead>\n",
              "        <tr>\n",
              "            <th>SUBCOUNTY_NAME</th>\n",
              "            <th>POP</th>\n",
              "            <th>Area</th>\n",
              "        </tr>\n",
              "    </thead>\n",
              "    <tbody>\n",
              "        <tr>\n",
              "            <td>KACHERI</td>\n",
              "            <td>17244</td>\n",
              "            <td>1067176155</td>\n",
              "        </tr>\n",
              "        <tr>\n",
              "            <td>KOTIDO</td>\n",
              "            <td>52771</td>\n",
              "            <td>597575188</td>\n",
              "        </tr>\n",
              "        <tr>\n",
              "            <td>KOTIDO TOWN COUNCIL</td>\n",
              "            <td>27389</td>\n",
              "            <td>23972401</td>\n",
              "        </tr>\n",
              "        <tr>\n",
              "            <td>NAKAPERIMORU</td>\n",
              "            <td>38775</td>\n",
              "            <td>419111591</td>\n",
              "        </tr>\n",
              "        <tr>\n",
              "            <td>PANYANGARA</td>\n",
              "            <td>65704</td>\n",
              "            <td>880955930</td>\n",
              "        </tr>\n",
              "        <tr>\n",
              "            <td>RENGEN</td>\n",
              "            <td>41273</td>\n",
              "            <td>652744859</td>\n",
              "        </tr>\n",
              "        <tr>\n",
              "            <td>KAABONG  EAST</td>\n",
              "            <td>42221</td>\n",
              "            <td>60801942</td>\n",
              "        </tr>\n",
              "        <tr>\n",
              "            <td>KAABONG TOWN COUNCIL</td>\n",
              "            <td>38857</td>\n",
              "            <td>13071455</td>\n",
              "        </tr>\n",
              "        <tr>\n",
              "            <td>KAABONG WEST</td>\n",
              "            <td>41454</td>\n",
              "            <td>67612362</td>\n",
              "        </tr>\n",
              "        <tr>\n",
              "            <td>KALAPATA</td>\n",
              "            <td>99203</td>\n",
              "            <td>223116860</td>\n",
              "        </tr>\n",
              "        <tr>\n",
              "            <td>KAMION</td>\n",
              "            <td>60070</td>\n",
              "            <td>1199409465</td>\n",
              "        </tr>\n",
              "        <tr>\n",
              "            <td>KAPEDO</td>\n",
              "            <td>33951</td>\n",
              "            <td>304557831</td>\n",
              "        </tr>\n",
              "        <tr>\n",
              "            <td>KATHILE</td>\n",
              "            <td>56870</td>\n",
              "            <td>228457417</td>\n",
              "        </tr>\n",
              "        <tr>\n",
              "            <td>KAWALAKOL</td>\n",
              "            <td>37691</td>\n",
              "            <td>1742041261</td>\n",
              "        </tr>\n",
              "        <tr>\n",
              "            <td>LOBALANGIT</td>\n",
              "            <td>22907</td>\n",
              "            <td>302572789</td>\n",
              "        </tr>\n",
              "        <tr>\n",
              "            <td>LODIKO</td>\n",
              "            <td>31820</td>\n",
              "            <td>397700845</td>\n",
              "        </tr>\n",
              "        <tr>\n",
              "            <td>LOLELIA</td>\n",
              "            <td>100919</td>\n",
              "            <td>1069331387</td>\n",
              "        </tr>\n",
              "        <tr>\n",
              "            <td>LOYORO</td>\n",
              "            <td>16608</td>\n",
              "            <td>1330019236</td>\n",
              "        </tr>\n",
              "        <tr>\n",
              "            <td>NAPORE (KARENGA)</td>\n",
              "            <td>20394</td>\n",
              "            <td>309577387</td>\n",
              "        </tr>\n",
              "        <tr>\n",
              "            <td>SIDOK</td>\n",
              "            <td>24092</td>\n",
              "            <td>125330583</td>\n",
              "        </tr>\n",
              "        <tr>\n",
              "            <td>ABIM</td>\n",
              "            <td>14377</td>\n",
              "            <td>188613057</td>\n",
              "        </tr>\n",
              "        <tr>\n",
              "            <td>ABIM TOWN COUNCIL</td>\n",
              "            <td>11489</td>\n",
              "            <td>115941152</td>\n",
              "        </tr>\n",
              "        <tr>\n",
              "            <td>ALEREK</td>\n",
              "            <td>12573</td>\n",
              "            <td>1255760525</td>\n",
              "        </tr>\n",
              "        <tr>\n",
              "            <td>LOTUKEI</td>\n",
              "            <td>18641</td>\n",
              "            <td>191684465</td>\n",
              "        </tr>\n",
              "        <tr>\n",
              "            <td>MORULEM</td>\n",
              "            <td>16834</td>\n",
              "            <td>250364895</td>\n",
              "        </tr>\n",
              "        <tr>\n",
              "            <td>KARITA</td>\n",
              "            <td>45015</td>\n",
              "            <td>658008801</td>\n",
              "        </tr>\n",
              "        <tr>\n",
              "            <td>LOROO</td>\n",
              "            <td>22541</td>\n",
              "            <td>371970302</td>\n",
              "        </tr>\n",
              "        <tr>\n",
              "            <td>AMUDAT</td>\n",
              "            <td>30181</td>\n",
              "            <td>596393139</td>\n",
              "        </tr>\n",
              "        <tr>\n",
              "            <td>AMUDAT TOWN COUNCIL</td>\n",
              "            <td>4053</td>\n",
              "            <td>17207110</td>\n",
              "        </tr>\n",
              "        <tr>\n",
              "            <td>KATIKEKILE</td>\n",
              "            <td>11772</td>\n",
              "            <td>277451997</td>\n",
              "        </tr>\n",
              "        <tr>\n",
              "            <td>NADUNGET</td>\n",
              "            <td>42115</td>\n",
              "            <td>596023780</td>\n",
              "        </tr>\n",
              "        <tr>\n",
              "            <td>TAPAC</td>\n",
              "            <td>21999</td>\n",
              "            <td>622266516</td>\n",
              "        </tr>\n",
              "        <tr>\n",
              "            <td>NORTHERN DIVISION</td>\n",
              "            <td>7161</td>\n",
              "            <td>2738777</td>\n",
              "        </tr>\n",
              "        <tr>\n",
              "            <td>SOUTHERN DIVISION</td>\n",
              "            <td>3272</td>\n",
              "            <td>2121209</td>\n",
              "        </tr>\n",
              "        <tr>\n",
              "            <td>LOREGAE</td>\n",
              "            <td>26644</td>\n",
              "            <td>928683431</td>\n",
              "        </tr>\n",
              "        <tr>\n",
              "            <td>NAKAPIRIPIRIT TOWN COUNCIL</td>\n",
              "            <td>1418</td>\n",
              "            <td>4673094</td>\n",
              "        </tr>\n",
              "        <tr>\n",
              "            <td>NAMALU</td>\n",
              "            <td>25905</td>\n",
              "            <td>553067364</td>\n",
              "        </tr>\n",
              "        <tr>\n",
              "            <td>KAKOMONGOLE</td>\n",
              "            <td>15960</td>\n",
              "            <td>312709097</td>\n",
              "        </tr>\n",
              "        <tr>\n",
              "            <td>LOLACHAT</td>\n",
              "            <td>22801</td>\n",
              "            <td>642401705</td>\n",
              "        </tr>\n",
              "        <tr>\n",
              "            <td>LORENGEDWAT</td>\n",
              "            <td>9929</td>\n",
              "            <td>435714604</td>\n",
              "        </tr>\n",
              "        <tr>\n",
              "            <td>NABILATUK</td>\n",
              "            <td>27534</td>\n",
              "            <td>499776866</td>\n",
              "        </tr>\n",
              "        <tr>\n",
              "            <td>IRIIRI</td>\n",
              "            <td>46979</td>\n",
              "            <td>1030623258</td>\n",
              "        </tr>\n",
              "        <tr>\n",
              "            <td>LOPEEI</td>\n",
              "            <td>18815</td>\n",
              "            <td>790782350</td>\n",
              "        </tr>\n",
              "        <tr>\n",
              "            <td>LORENGECORA</td>\n",
              "            <td>2503</td>\n",
              "            <td>118997955</td>\n",
              "        </tr>\n",
              "        <tr>\n",
              "            <td>LOTOME</td>\n",
              "            <td>17834</td>\n",
              "            <td>125857565</td>\n",
              "        </tr>\n",
              "        <tr>\n",
              "            <td>MATANY</td>\n",
              "            <td>29495</td>\n",
              "            <td>338252511</td>\n",
              "        </tr>\n",
              "        <tr>\n",
              "            <td>NAPAK TOWN COUNCIL</td>\n",
              "            <td>8010</td>\n",
              "            <td>150906375</td>\n",
              "        </tr>\n",
              "        <tr>\n",
              "            <td>NGOLERIET</td>\n",
              "            <td>20790</td>\n",
              "            <td>158887552</td>\n",
              "        </tr>\n",
              "        <tr>\n",
              "            <td>NYAKWAE</td>\n",
              "            <td>16470</td>\n",
              "            <td>769609687</td>\n",
              "        </tr>\n",
              "        <tr>\n",
              "            <td>LOKOPO</td>\n",
              "            <td>23200</td>\n",
              "            <td>1794470536</td>\n",
              "        </tr>\n",
              "        <tr>\n",
              "            <td>RUPA</td>\n",
              "            <td>41493</td>\n",
              "            <td>2069554899</td>\n",
              "        </tr>\n",
              "        <tr>\n",
              "            <td>MORUITA</td>\n",
              "            <td>16588</td>\n",
              "            <td>839293722</td>\n",
              "        </tr>\n",
              "    </tbody>\n",
              "</table>"
            ],
            "text/plain": [
              "[('KACHERI', 17244, 1067176155),\n",
              " ('KOTIDO', 52771, 597575188),\n",
              " ('KOTIDO TOWN COUNCIL', 27389, 23972401),\n",
              " ('NAKAPERIMORU', 38775, 419111591),\n",
              " ('PANYANGARA', 65704, 880955930),\n",
              " ('RENGEN', 41273, 652744859),\n",
              " ('KAABONG  EAST', 42221, 60801942),\n",
              " ('KAABONG TOWN COUNCIL', 38857, 13071455),\n",
              " ('KAABONG WEST', 41454, 67612362),\n",
              " ('KALAPATA', 99203, 223116860),\n",
              " ('KAMION', 60070, 1199409465),\n",
              " ('KAPEDO', 33951, 304557831),\n",
              " ('KATHILE', 56870, 228457417),\n",
              " ('KAWALAKOL', 37691, 1742041261),\n",
              " ('LOBALANGIT', 22907, 302572789),\n",
              " ('LODIKO', 31820, 397700845),\n",
              " ('LOLELIA', 100919, 1069331387),\n",
              " ('LOYORO', 16608, 1330019236),\n",
              " ('NAPORE (KARENGA)', 20394, 309577387),\n",
              " ('SIDOK', 24092, 125330583),\n",
              " ('ABIM', 14377, 188613057),\n",
              " ('ABIM TOWN COUNCIL', 11489, 115941152),\n",
              " ('ALEREK', 12573, 1255760525),\n",
              " ('LOTUKEI', 18641, 191684465),\n",
              " ('MORULEM', 16834, 250364895),\n",
              " ('KARITA', 45015, 658008801),\n",
              " ('LOROO', 22541, 371970302),\n",
              " ('AMUDAT', 30181, 596393139),\n",
              " ('AMUDAT TOWN COUNCIL', 4053, 17207110),\n",
              " ('KATIKEKILE', 11772, 277451997),\n",
              " ('NADUNGET', 42115, 596023780),\n",
              " ('TAPAC', 21999, 622266516),\n",
              " ('NORTHERN DIVISION', 7161, 2738777),\n",
              " ('SOUTHERN DIVISION', 3272, 2121209),\n",
              " ('LOREGAE', 26644, 928683431),\n",
              " ('NAKAPIRIPIRIT TOWN COUNCIL', 1418, 4673094),\n",
              " ('NAMALU', 25905, 553067364),\n",
              " ('KAKOMONGOLE', 15960, 312709097),\n",
              " ('LOLACHAT', 22801, 642401705),\n",
              " ('LORENGEDWAT', 9929, 435714604),\n",
              " ('NABILATUK', 27534, 499776866),\n",
              " ('IRIIRI', 46979, 1030623258),\n",
              " ('LOPEEI', 18815, 790782350),\n",
              " ('LORENGECORA', 2503, 118997955),\n",
              " ('LOTOME', 17834, 125857565),\n",
              " ('MATANY', 29495, 338252511),\n",
              " ('NAPAK TOWN COUNCIL', 8010, 150906375),\n",
              " ('NGOLERIET', 20790, 158887552),\n",
              " ('NYAKWAE', 16470, 769609687),\n",
              " ('LOKOPO', 23200, 1794470536),\n",
              " ('RUPA', 41493, 2069554899),\n",
              " ('MORUITA', 16588, 839293722)]"
            ]
          },
          "metadata": {
            "tags": []
          },
          "execution_count": 5
        }
      ]
    },
    {
      "cell_type": "markdown",
      "metadata": {
        "id": "NCvpJTXPShEi"
      },
      "source": [
        "# **1.3.2 Sort the list of districts by total crop area (descending order).**"
      ]
    },
    {
      "cell_type": "code",
      "metadata": {
        "colab": {
          "base_uri": "https://localhost:8080/",
          "height": 199
        },
        "id": "7Krkz_uaS6Fi",
        "outputId": "2b581130-4aa1-45e2-db51-0d063385e472"
      },
      "source": [
        "# Previewing the dataset\n",
        "%sql SELECT * FROM Uganda LIMIT 5;"
      ],
      "execution_count": 7,
      "outputs": [
        {
          "output_type": "stream",
          "text": [
            " * sqlite://\n",
            "Done.\n"
          ],
          "name": "stdout"
        },
        {
          "output_type": "execute_result",
          "data": {
            "text/html": [
              "<table>\n",
              "    <thead>\n",
              "        <tr>\n",
              "            <th>OBJECTID</th>\n",
              "            <th>SUBCOUNTY_NAME</th>\n",
              "            <th>DISTRICT_NAME</th>\n",
              "            <th>POP</th>\n",
              "            <th>Area</th>\n",
              "            <th>Karamoja</th>\n",
              "            <th>S_Yield_Ha</th>\n",
              "            <th>M_Yield_Ha</th>\n",
              "            <th>Crop_Area_Ha</th>\n",
              "            <th>S_Area_Ha</th>\n",
              "            <th>M_Area_Ha</th>\n",
              "            <th>S_Prod_Tot</th>\n",
              "            <th>M_Prod_Tot</th>\n",
              "        </tr>\n",
              "    </thead>\n",
              "    <tbody>\n",
              "        <tr>\n",
              "            <td>263</td>\n",
              "            <td>KACHERI</td>\n",
              "            <td>KOTIDO</td>\n",
              "            <td>17244</td>\n",
              "            <td>1067176155</td>\n",
              "            <td>Y</td>\n",
              "            <td>354.20741069999997</td>\n",
              "            <td>1137.467019</td>\n",
              "            <td>7023.533691</td>\n",
              "            <td>6434.342449</td>\n",
              "            <td>528.1242294</td>\n",
              "            <td>2279091.779</td>\n",
              "            <td>600723.8929</td>\n",
              "        </tr>\n",
              "        <tr>\n",
              "            <td>264</td>\n",
              "            <td>KOTIDO</td>\n",
              "            <td>KOTIDO</td>\n",
              "            <td>52771</td>\n",
              "            <td>597575188</td>\n",
              "            <td>Y</td>\n",
              "            <td>367.89052319999996</td>\n",
              "            <td>1162.9966869999998</td>\n",
              "            <td>13587.990759999999</td>\n",
              "            <td>12455.59264</td>\n",
              "            <td>824.7670809</td>\n",
              "            <td>4582294.492</td>\n",
              "            <td>959201.3825</td>\n",
              "        </tr>\n",
              "        <tr>\n",
              "            <td>265</td>\n",
              "            <td>KOTIDO TOWN COUNCIL</td>\n",
              "            <td>KOTIDO</td>\n",
              "            <td>27389</td>\n",
              "            <td>23972401</td>\n",
              "            <td>Y</td>\n",
              "            <td>369.3141771</td>\n",
              "            <td>1167.005832</td>\n",
              "            <td>1656.5318550000002</td>\n",
              "            <td>1520.322052</td>\n",
              "            <td>8.561643817</td>\n",
              "            <td>561476.4874</td>\n",
              "            <td>9991.488268000001</td>\n",
              "        </tr>\n",
              "        <tr>\n",
              "            <td>266</td>\n",
              "            <td>NAKAPERIMORU</td>\n",
              "            <td>KOTIDO</td>\n",
              "            <td>38775</td>\n",
              "            <td>419111591</td>\n",
              "            <td>Y</td>\n",
              "            <td>283.3245689</td>\n",
              "            <td>852.3665784</td>\n",
              "            <td>7087.823334000001</td>\n",
              "            <td>6761.488901000001</td>\n",
              "            <td>45.72171184</td>\n",
              "            <td>1915695.928</td>\n",
              "            <td>38971.65908</td>\n",
              "        </tr>\n",
              "        <tr>\n",
              "            <td>267</td>\n",
              "            <td>PANYANGARA</td>\n",
              "            <td>KOTIDO</td>\n",
              "            <td>65704</td>\n",
              "            <td>880955930</td>\n",
              "            <td>Y</td>\n",
              "            <td>373.8369255</td>\n",
              "            <td>1283.859882</td>\n",
              "            <td>10398.24939</td>\n",
              "            <td>10111.198129999999</td>\n",
              "            <td>172.6119139</td>\n",
              "            <td>3779939.224</td>\n",
              "            <td>221609.5114</td>\n",
              "        </tr>\n",
              "    </tbody>\n",
              "</table>"
            ],
            "text/plain": [
              "[(263, 'KACHERI', 'KOTIDO', 17244, 1067176155, 'Y', 354.20741069999997, 1137.467019, 7023.533691, 6434.342449, 528.1242294, 2279091.779, 600723.8929),\n",
              " (264, 'KOTIDO', 'KOTIDO', 52771, 597575188, 'Y', 367.89052319999996, 1162.9966869999998, 13587.990759999999, 12455.59264, 824.7670809, 4582294.492, 959201.3825),\n",
              " (265, 'KOTIDO TOWN COUNCIL', 'KOTIDO', 27389, 23972401, 'Y', 369.3141771, 1167.005832, 1656.5318550000002, 1520.322052, 8.561643817, 561476.4874, 9991.488268000001),\n",
              " (266, 'NAKAPERIMORU', 'KOTIDO', 38775, 419111591, 'Y', 283.3245689, 852.3665784, 7087.823334000001, 6761.488901000001, 45.72171184, 1915695.928, 38971.65908),\n",
              " (267, 'PANYANGARA', 'KOTIDO', 65704, 880955930, 'Y', 373.8369255, 1283.859882, 10398.24939, 10111.198129999999, 172.6119139, 3779939.224, 221609.5114)]"
            ]
          },
          "metadata": {
            "tags": []
          },
          "execution_count": 7
        }
      ]
    },
    {
      "cell_type": "code",
      "metadata": {
        "colab": {
          "base_uri": "https://localhost:8080/",
          "height": 1000
        },
        "id": "JhK9cTvnSpeQ",
        "outputId": "5160e4f8-1aee-4ca7-8729-0e5005ef2389"
      },
      "source": [
        "# using the ORDER BY function this task will be to be carried out\n",
        "%%sql\n",
        "SELECT DISTRICT_NAME, Area FROM Uganda\n",
        "ORDER BY Area DESC;"
      ],
      "execution_count": 8,
      "outputs": [
        {
          "output_type": "stream",
          "text": [
            " * sqlite://\n",
            "Done.\n"
          ],
          "name": "stdout"
        },
        {
          "output_type": "execute_result",
          "data": {
            "text/html": [
              "<table>\n",
              "    <thead>\n",
              "        <tr>\n",
              "            <th>DISTRICT_NAME</th>\n",
              "            <th>Area</th>\n",
              "        </tr>\n",
              "    </thead>\n",
              "    <tbody>\n",
              "        <tr>\n",
              "            <td>MOROTO</td>\n",
              "            <td>2069554899</td>\n",
              "        </tr>\n",
              "        <tr>\n",
              "            <td>NAPAK</td>\n",
              "            <td>1794470536</td>\n",
              "        </tr>\n",
              "        <tr>\n",
              "            <td>KAABONG</td>\n",
              "            <td>1742041261</td>\n",
              "        </tr>\n",
              "        <tr>\n",
              "            <td>KAABONG</td>\n",
              "            <td>1330019236</td>\n",
              "        </tr>\n",
              "        <tr>\n",
              "            <td>ABIM</td>\n",
              "            <td>1255760525</td>\n",
              "        </tr>\n",
              "        <tr>\n",
              "            <td>KAABONG</td>\n",
              "            <td>1199409465</td>\n",
              "        </tr>\n",
              "        <tr>\n",
              "            <td>KAABONG</td>\n",
              "            <td>1069331387</td>\n",
              "        </tr>\n",
              "        <tr>\n",
              "            <td>KOTIDO</td>\n",
              "            <td>1067176155</td>\n",
              "        </tr>\n",
              "        <tr>\n",
              "            <td>NAPAK</td>\n",
              "            <td>1030623258</td>\n",
              "        </tr>\n",
              "        <tr>\n",
              "            <td>NAKAPIRIPIRIT</td>\n",
              "            <td>928683431</td>\n",
              "        </tr>\n",
              "        <tr>\n",
              "            <td>KOTIDO</td>\n",
              "            <td>880955930</td>\n",
              "        </tr>\n",
              "        <tr>\n",
              "            <td>NAKAPIRIPIRIT</td>\n",
              "            <td>839293722</td>\n",
              "        </tr>\n",
              "        <tr>\n",
              "            <td>NAPAK</td>\n",
              "            <td>790782350</td>\n",
              "        </tr>\n",
              "        <tr>\n",
              "            <td>ABIM</td>\n",
              "            <td>769609687</td>\n",
              "        </tr>\n",
              "        <tr>\n",
              "            <td>AMUDAT</td>\n",
              "            <td>658008801</td>\n",
              "        </tr>\n",
              "        <tr>\n",
              "            <td>KOTIDO</td>\n",
              "            <td>652744859</td>\n",
              "        </tr>\n",
              "        <tr>\n",
              "            <td>NAKAPIRIPIRIT</td>\n",
              "            <td>642401705</td>\n",
              "        </tr>\n",
              "        <tr>\n",
              "            <td>MOROTO</td>\n",
              "            <td>622266516</td>\n",
              "        </tr>\n",
              "        <tr>\n",
              "            <td>KOTIDO</td>\n",
              "            <td>597575188</td>\n",
              "        </tr>\n",
              "        <tr>\n",
              "            <td>AMUDAT</td>\n",
              "            <td>596393139</td>\n",
              "        </tr>\n",
              "        <tr>\n",
              "            <td>MOROTO</td>\n",
              "            <td>596023780</td>\n",
              "        </tr>\n",
              "        <tr>\n",
              "            <td>NAKAPIRIPIRIT</td>\n",
              "            <td>553067364</td>\n",
              "        </tr>\n",
              "        <tr>\n",
              "            <td>NAKAPIRIPIRIT</td>\n",
              "            <td>499776866</td>\n",
              "        </tr>\n",
              "        <tr>\n",
              "            <td>NAKAPIRIPIRIT</td>\n",
              "            <td>435714604</td>\n",
              "        </tr>\n",
              "        <tr>\n",
              "            <td>KOTIDO</td>\n",
              "            <td>419111591</td>\n",
              "        </tr>\n",
              "        <tr>\n",
              "            <td>KAABONG</td>\n",
              "            <td>397700845</td>\n",
              "        </tr>\n",
              "        <tr>\n",
              "            <td>AMUDAT</td>\n",
              "            <td>371970302</td>\n",
              "        </tr>\n",
              "        <tr>\n",
              "            <td>NAPAK</td>\n",
              "            <td>338252511</td>\n",
              "        </tr>\n",
              "        <tr>\n",
              "            <td>NAKAPIRIPIRIT</td>\n",
              "            <td>312709097</td>\n",
              "        </tr>\n",
              "        <tr>\n",
              "            <td>KAABONG</td>\n",
              "            <td>309577387</td>\n",
              "        </tr>\n",
              "        <tr>\n",
              "            <td>KAABONG</td>\n",
              "            <td>304557831</td>\n",
              "        </tr>\n",
              "        <tr>\n",
              "            <td>KAABONG</td>\n",
              "            <td>302572789</td>\n",
              "        </tr>\n",
              "        <tr>\n",
              "            <td>MOROTO</td>\n",
              "            <td>277451997</td>\n",
              "        </tr>\n",
              "        <tr>\n",
              "            <td>ABIM</td>\n",
              "            <td>250364895</td>\n",
              "        </tr>\n",
              "        <tr>\n",
              "            <td>KAABONG</td>\n",
              "            <td>228457417</td>\n",
              "        </tr>\n",
              "        <tr>\n",
              "            <td>KAABONG</td>\n",
              "            <td>223116860</td>\n",
              "        </tr>\n",
              "        <tr>\n",
              "            <td>ABIM</td>\n",
              "            <td>191684465</td>\n",
              "        </tr>\n",
              "        <tr>\n",
              "            <td>ABIM</td>\n",
              "            <td>188613057</td>\n",
              "        </tr>\n",
              "        <tr>\n",
              "            <td>NAPAK</td>\n",
              "            <td>158887552</td>\n",
              "        </tr>\n",
              "        <tr>\n",
              "            <td>NAPAK</td>\n",
              "            <td>150906375</td>\n",
              "        </tr>\n",
              "        <tr>\n",
              "            <td>NAPAK</td>\n",
              "            <td>125857565</td>\n",
              "        </tr>\n",
              "        <tr>\n",
              "            <td>KAABONG</td>\n",
              "            <td>125330583</td>\n",
              "        </tr>\n",
              "        <tr>\n",
              "            <td>NAPAK</td>\n",
              "            <td>118997955</td>\n",
              "        </tr>\n",
              "        <tr>\n",
              "            <td>ABIM</td>\n",
              "            <td>115941152</td>\n",
              "        </tr>\n",
              "        <tr>\n",
              "            <td>KAABONG</td>\n",
              "            <td>67612362</td>\n",
              "        </tr>\n",
              "        <tr>\n",
              "            <td>KAABONG</td>\n",
              "            <td>60801942</td>\n",
              "        </tr>\n",
              "        <tr>\n",
              "            <td>KOTIDO</td>\n",
              "            <td>23972401</td>\n",
              "        </tr>\n",
              "        <tr>\n",
              "            <td>AMUDAT</td>\n",
              "            <td>17207110</td>\n",
              "        </tr>\n",
              "        <tr>\n",
              "            <td>KAABONG</td>\n",
              "            <td>13071455</td>\n",
              "        </tr>\n",
              "        <tr>\n",
              "            <td>NAKAPIRIPIRIT</td>\n",
              "            <td>4673094</td>\n",
              "        </tr>\n",
              "        <tr>\n",
              "            <td>MOROTO</td>\n",
              "            <td>2738777</td>\n",
              "        </tr>\n",
              "        <tr>\n",
              "            <td>MOROTO</td>\n",
              "            <td>2121209</td>\n",
              "        </tr>\n",
              "    </tbody>\n",
              "</table>"
            ],
            "text/plain": [
              "[('MOROTO', 2069554899),\n",
              " ('NAPAK', 1794470536),\n",
              " ('KAABONG', 1742041261),\n",
              " ('KAABONG', 1330019236),\n",
              " ('ABIM', 1255760525),\n",
              " ('KAABONG', 1199409465),\n",
              " ('KAABONG', 1069331387),\n",
              " ('KOTIDO', 1067176155),\n",
              " ('NAPAK', 1030623258),\n",
              " ('NAKAPIRIPIRIT', 928683431),\n",
              " ('KOTIDO', 880955930),\n",
              " ('NAKAPIRIPIRIT', 839293722),\n",
              " ('NAPAK', 790782350),\n",
              " ('ABIM', 769609687),\n",
              " ('AMUDAT', 658008801),\n",
              " ('KOTIDO', 652744859),\n",
              " ('NAKAPIRIPIRIT', 642401705),\n",
              " ('MOROTO', 622266516),\n",
              " ('KOTIDO', 597575188),\n",
              " ('AMUDAT', 596393139),\n",
              " ('MOROTO', 596023780),\n",
              " ('NAKAPIRIPIRIT', 553067364),\n",
              " ('NAKAPIRIPIRIT', 499776866),\n",
              " ('NAKAPIRIPIRIT', 435714604),\n",
              " ('KOTIDO', 419111591),\n",
              " ('KAABONG', 397700845),\n",
              " ('AMUDAT', 371970302),\n",
              " ('NAPAK', 338252511),\n",
              " ('NAKAPIRIPIRIT', 312709097),\n",
              " ('KAABONG', 309577387),\n",
              " ('KAABONG', 304557831),\n",
              " ('KAABONG', 302572789),\n",
              " ('MOROTO', 277451997),\n",
              " ('ABIM', 250364895),\n",
              " ('KAABONG', 228457417),\n",
              " ('KAABONG', 223116860),\n",
              " ('ABIM', 191684465),\n",
              " ('ABIM', 188613057),\n",
              " ('NAPAK', 158887552),\n",
              " ('NAPAK', 150906375),\n",
              " ('NAPAK', 125857565),\n",
              " ('KAABONG', 125330583),\n",
              " ('NAPAK', 118997955),\n",
              " ('ABIM', 115941152),\n",
              " ('KAABONG', 67612362),\n",
              " ('KAABONG', 60801942),\n",
              " ('KOTIDO', 23972401),\n",
              " ('AMUDAT', 17207110),\n",
              " ('KAABONG', 13071455),\n",
              " ('NAKAPIRIPIRIT', 4673094),\n",
              " ('MOROTO', 2738777),\n",
              " ('MOROTO', 2121209)]"
            ]
          },
          "metadata": {
            "tags": []
          },
          "execution_count": 8
        }
      ]
    },
    {
      "cell_type": "markdown",
      "metadata": {
        "id": "n6t1pB39Thct"
      },
      "source": [
        "# **1.3.3 Select only the Sub counties from the Moroto district, order them alphabetically and show their production of sorghum.**"
      ]
    },
    {
      "cell_type": "code",
      "metadata": {
        "colab": {
          "base_uri": "https://localhost:8080/",
          "height": 199
        },
        "id": "hL0jEUa_TpLU",
        "outputId": "d7948270-0fe1-42ab-e57a-fbb2c87e465b"
      },
      "source": [
        "# Previewing the dataset\n",
        "%sql SELECT * FROM Uganda LIMIT 5;"
      ],
      "execution_count": 11,
      "outputs": [
        {
          "output_type": "stream",
          "text": [
            " * sqlite://\n",
            "Done.\n"
          ],
          "name": "stdout"
        },
        {
          "output_type": "execute_result",
          "data": {
            "text/html": [
              "<table>\n",
              "    <thead>\n",
              "        <tr>\n",
              "            <th>OBJECTID</th>\n",
              "            <th>SUBCOUNTY_NAME</th>\n",
              "            <th>DISTRICT_NAME</th>\n",
              "            <th>POP</th>\n",
              "            <th>Area</th>\n",
              "            <th>Karamoja</th>\n",
              "            <th>S_Yield_Ha</th>\n",
              "            <th>M_Yield_Ha</th>\n",
              "            <th>Crop_Area_Ha</th>\n",
              "            <th>S_Area_Ha</th>\n",
              "            <th>M_Area_Ha</th>\n",
              "            <th>S_Prod_Tot</th>\n",
              "            <th>M_Prod_Tot</th>\n",
              "        </tr>\n",
              "    </thead>\n",
              "    <tbody>\n",
              "        <tr>\n",
              "            <td>263</td>\n",
              "            <td>KACHERI</td>\n",
              "            <td>KOTIDO</td>\n",
              "            <td>17244</td>\n",
              "            <td>1067176155</td>\n",
              "            <td>Y</td>\n",
              "            <td>354.20741069999997</td>\n",
              "            <td>1137.467019</td>\n",
              "            <td>7023.533691</td>\n",
              "            <td>6434.342449</td>\n",
              "            <td>528.1242294</td>\n",
              "            <td>2279091.779</td>\n",
              "            <td>600723.8929</td>\n",
              "        </tr>\n",
              "        <tr>\n",
              "            <td>264</td>\n",
              "            <td>KOTIDO</td>\n",
              "            <td>KOTIDO</td>\n",
              "            <td>52771</td>\n",
              "            <td>597575188</td>\n",
              "            <td>Y</td>\n",
              "            <td>367.89052319999996</td>\n",
              "            <td>1162.9966869999998</td>\n",
              "            <td>13587.990759999999</td>\n",
              "            <td>12455.59264</td>\n",
              "            <td>824.7670809</td>\n",
              "            <td>4582294.492</td>\n",
              "            <td>959201.3825</td>\n",
              "        </tr>\n",
              "        <tr>\n",
              "            <td>265</td>\n",
              "            <td>KOTIDO TOWN COUNCIL</td>\n",
              "            <td>KOTIDO</td>\n",
              "            <td>27389</td>\n",
              "            <td>23972401</td>\n",
              "            <td>Y</td>\n",
              "            <td>369.3141771</td>\n",
              "            <td>1167.005832</td>\n",
              "            <td>1656.5318550000002</td>\n",
              "            <td>1520.322052</td>\n",
              "            <td>8.561643817</td>\n",
              "            <td>561476.4874</td>\n",
              "            <td>9991.488268000001</td>\n",
              "        </tr>\n",
              "        <tr>\n",
              "            <td>266</td>\n",
              "            <td>NAKAPERIMORU</td>\n",
              "            <td>KOTIDO</td>\n",
              "            <td>38775</td>\n",
              "            <td>419111591</td>\n",
              "            <td>Y</td>\n",
              "            <td>283.3245689</td>\n",
              "            <td>852.3665784</td>\n",
              "            <td>7087.823334000001</td>\n",
              "            <td>6761.488901000001</td>\n",
              "            <td>45.72171184</td>\n",
              "            <td>1915695.928</td>\n",
              "            <td>38971.65908</td>\n",
              "        </tr>\n",
              "        <tr>\n",
              "            <td>267</td>\n",
              "            <td>PANYANGARA</td>\n",
              "            <td>KOTIDO</td>\n",
              "            <td>65704</td>\n",
              "            <td>880955930</td>\n",
              "            <td>Y</td>\n",
              "            <td>373.8369255</td>\n",
              "            <td>1283.859882</td>\n",
              "            <td>10398.24939</td>\n",
              "            <td>10111.198129999999</td>\n",
              "            <td>172.6119139</td>\n",
              "            <td>3779939.224</td>\n",
              "            <td>221609.5114</td>\n",
              "        </tr>\n",
              "    </tbody>\n",
              "</table>"
            ],
            "text/plain": [
              "[(263, 'KACHERI', 'KOTIDO', 17244, 1067176155, 'Y', 354.20741069999997, 1137.467019, 7023.533691, 6434.342449, 528.1242294, 2279091.779, 600723.8929),\n",
              " (264, 'KOTIDO', 'KOTIDO', 52771, 597575188, 'Y', 367.89052319999996, 1162.9966869999998, 13587.990759999999, 12455.59264, 824.7670809, 4582294.492, 959201.3825),\n",
              " (265, 'KOTIDO TOWN COUNCIL', 'KOTIDO', 27389, 23972401, 'Y', 369.3141771, 1167.005832, 1656.5318550000002, 1520.322052, 8.561643817, 561476.4874, 9991.488268000001),\n",
              " (266, 'NAKAPERIMORU', 'KOTIDO', 38775, 419111591, 'Y', 283.3245689, 852.3665784, 7087.823334000001, 6761.488901000001, 45.72171184, 1915695.928, 38971.65908),\n",
              " (267, 'PANYANGARA', 'KOTIDO', 65704, 880955930, 'Y', 373.8369255, 1283.859882, 10398.24939, 10111.198129999999, 172.6119139, 3779939.224, 221609.5114)]"
            ]
          },
          "metadata": {
            "tags": []
          },
          "execution_count": 11
        }
      ]
    },
    {
      "cell_type": "code",
      "metadata": {
        "colab": {
          "base_uri": "https://localhost:8080/",
          "height": 203
        },
        "id": "Xe4mMy97Ttm7",
        "outputId": "fe3cb679-984d-4193-8b74-ccf8a6f0d344"
      },
      "source": [
        "%%sql\n",
        "SELECT SUBCOUNTY_NAME, S_Prod_Tot FROM Uganda\n",
        "WHERE DISTRICT_NAME = 'MOROTO' ORDER BY SUBCOUNTY_NAME ASC;"
      ],
      "execution_count": 14,
      "outputs": [
        {
          "output_type": "stream",
          "text": [
            " * sqlite://\n",
            "Done.\n"
          ],
          "name": "stdout"
        },
        {
          "output_type": "execute_result",
          "data": {
            "text/html": [
              "<table>\n",
              "    <thead>\n",
              "        <tr>\n",
              "            <th>SUBCOUNTY_NAME</th>\n",
              "            <th>S_Prod_Tot</th>\n",
              "        </tr>\n",
              "    </thead>\n",
              "    <tbody>\n",
              "        <tr>\n",
              "            <td>KATIKEKILE</td>\n",
              "            <td>9379.029413</td>\n",
              "        </tr>\n",
              "        <tr>\n",
              "            <td>NADUNGET</td>\n",
              "            <td>321630.539</td>\n",
              "        </tr>\n",
              "        <tr>\n",
              "            <td>NORTHERN DIVISION</td>\n",
              "            <td>17.28125956</td>\n",
              "        </tr>\n",
              "        <tr>\n",
              "            <td>RUPA</td>\n",
              "            <td>227298.5184</td>\n",
              "        </tr>\n",
              "        <tr>\n",
              "            <td>SOUTHERN DIVISION</td>\n",
              "            <td>19.67486547</td>\n",
              "        </tr>\n",
              "        <tr>\n",
              "            <td>TAPAC</td>\n",
              "            <td>49251.66081</td>\n",
              "        </tr>\n",
              "    </tbody>\n",
              "</table>"
            ],
            "text/plain": [
              "[('KATIKEKILE', 9379.029413),\n",
              " ('NADUNGET', 321630.539),\n",
              " ('NORTHERN DIVISION', 17.28125956),\n",
              " ('RUPA', 227298.5184),\n",
              " ('SOUTHERN DIVISION', 19.67486547),\n",
              " ('TAPAC', 49251.66081)]"
            ]
          },
          "metadata": {
            "tags": []
          },
          "execution_count": 14
        }
      ]
    },
    {
      "cell_type": "markdown",
      "metadata": {
        "id": "KQMK1EHhVHCF"
      },
      "source": [
        "# **1.3.4 Compute the total Maize production per District.**"
      ]
    },
    {
      "cell_type": "code",
      "metadata": {
        "colab": {
          "base_uri": "https://localhost:8080/",
          "height": 199
        },
        "id": "7aB6SjOQVM5v",
        "outputId": "fd6f400d-151c-4171-f735-1700ba1e8dae"
      },
      "source": [
        "# Previewing the dataset\n",
        "%sql SELECT * FROM Uganda LIMIT 5;"
      ],
      "execution_count": 15,
      "outputs": [
        {
          "output_type": "stream",
          "text": [
            " * sqlite://\n",
            "Done.\n"
          ],
          "name": "stdout"
        },
        {
          "output_type": "execute_result",
          "data": {
            "text/html": [
              "<table>\n",
              "    <thead>\n",
              "        <tr>\n",
              "            <th>OBJECTID</th>\n",
              "            <th>SUBCOUNTY_NAME</th>\n",
              "            <th>DISTRICT_NAME</th>\n",
              "            <th>POP</th>\n",
              "            <th>Area</th>\n",
              "            <th>Karamoja</th>\n",
              "            <th>S_Yield_Ha</th>\n",
              "            <th>M_Yield_Ha</th>\n",
              "            <th>Crop_Area_Ha</th>\n",
              "            <th>S_Area_Ha</th>\n",
              "            <th>M_Area_Ha</th>\n",
              "            <th>S_Prod_Tot</th>\n",
              "            <th>M_Prod_Tot</th>\n",
              "        </tr>\n",
              "    </thead>\n",
              "    <tbody>\n",
              "        <tr>\n",
              "            <td>263</td>\n",
              "            <td>KACHERI</td>\n",
              "            <td>KOTIDO</td>\n",
              "            <td>17244</td>\n",
              "            <td>1067176155</td>\n",
              "            <td>Y</td>\n",
              "            <td>354.20741069999997</td>\n",
              "            <td>1137.467019</td>\n",
              "            <td>7023.533691</td>\n",
              "            <td>6434.342449</td>\n",
              "            <td>528.1242294</td>\n",
              "            <td>2279091.779</td>\n",
              "            <td>600723.8929</td>\n",
              "        </tr>\n",
              "        <tr>\n",
              "            <td>264</td>\n",
              "            <td>KOTIDO</td>\n",
              "            <td>KOTIDO</td>\n",
              "            <td>52771</td>\n",
              "            <td>597575188</td>\n",
              "            <td>Y</td>\n",
              "            <td>367.89052319999996</td>\n",
              "            <td>1162.9966869999998</td>\n",
              "            <td>13587.990759999999</td>\n",
              "            <td>12455.59264</td>\n",
              "            <td>824.7670809</td>\n",
              "            <td>4582294.492</td>\n",
              "            <td>959201.3825</td>\n",
              "        </tr>\n",
              "        <tr>\n",
              "            <td>265</td>\n",
              "            <td>KOTIDO TOWN COUNCIL</td>\n",
              "            <td>KOTIDO</td>\n",
              "            <td>27389</td>\n",
              "            <td>23972401</td>\n",
              "            <td>Y</td>\n",
              "            <td>369.3141771</td>\n",
              "            <td>1167.005832</td>\n",
              "            <td>1656.5318550000002</td>\n",
              "            <td>1520.322052</td>\n",
              "            <td>8.561643817</td>\n",
              "            <td>561476.4874</td>\n",
              "            <td>9991.488268000001</td>\n",
              "        </tr>\n",
              "        <tr>\n",
              "            <td>266</td>\n",
              "            <td>NAKAPERIMORU</td>\n",
              "            <td>KOTIDO</td>\n",
              "            <td>38775</td>\n",
              "            <td>419111591</td>\n",
              "            <td>Y</td>\n",
              "            <td>283.3245689</td>\n",
              "            <td>852.3665784</td>\n",
              "            <td>7087.823334000001</td>\n",
              "            <td>6761.488901000001</td>\n",
              "            <td>45.72171184</td>\n",
              "            <td>1915695.928</td>\n",
              "            <td>38971.65908</td>\n",
              "        </tr>\n",
              "        <tr>\n",
              "            <td>267</td>\n",
              "            <td>PANYANGARA</td>\n",
              "            <td>KOTIDO</td>\n",
              "            <td>65704</td>\n",
              "            <td>880955930</td>\n",
              "            <td>Y</td>\n",
              "            <td>373.8369255</td>\n",
              "            <td>1283.859882</td>\n",
              "            <td>10398.24939</td>\n",
              "            <td>10111.198129999999</td>\n",
              "            <td>172.6119139</td>\n",
              "            <td>3779939.224</td>\n",
              "            <td>221609.5114</td>\n",
              "        </tr>\n",
              "    </tbody>\n",
              "</table>"
            ],
            "text/plain": [
              "[(263, 'KACHERI', 'KOTIDO', 17244, 1067176155, 'Y', 354.20741069999997, 1137.467019, 7023.533691, 6434.342449, 528.1242294, 2279091.779, 600723.8929),\n",
              " (264, 'KOTIDO', 'KOTIDO', 52771, 597575188, 'Y', 367.89052319999996, 1162.9966869999998, 13587.990759999999, 12455.59264, 824.7670809, 4582294.492, 959201.3825),\n",
              " (265, 'KOTIDO TOWN COUNCIL', 'KOTIDO', 27389, 23972401, 'Y', 369.3141771, 1167.005832, 1656.5318550000002, 1520.322052, 8.561643817, 561476.4874, 9991.488268000001),\n",
              " (266, 'NAKAPERIMORU', 'KOTIDO', 38775, 419111591, 'Y', 283.3245689, 852.3665784, 7087.823334000001, 6761.488901000001, 45.72171184, 1915695.928, 38971.65908),\n",
              " (267, 'PANYANGARA', 'KOTIDO', 65704, 880955930, 'Y', 373.8369255, 1283.859882, 10398.24939, 10111.198129999999, 172.6119139, 3779939.224, 221609.5114)]"
            ]
          },
          "metadata": {
            "tags": []
          },
          "execution_count": 15
        }
      ]
    },
    {
      "cell_type": "code",
      "metadata": {
        "colab": {
          "base_uri": "https://localhost:8080/",
          "height": 224
        },
        "id": "PtfK7_SXVTD-",
        "outputId": "26449fc9-ae4d-4f78-ff92-524ee187768a"
      },
      "source": [
        "%%sql\n",
        "SELECT DISTRICT_NAME, M_Prod_Tot FROM Uganda\n",
        "GROUP BY  DISTRICT_NAME\n",
        "ORDER BY M_Prod_Tot ASC;"
      ],
      "execution_count": 20,
      "outputs": [
        {
          "output_type": "stream",
          "text": [
            " * sqlite://\n",
            "Done.\n"
          ],
          "name": "stdout"
        },
        {
          "output_type": "execute_result",
          "data": {
            "text/html": [
              "<table>\n",
              "    <thead>\n",
              "        <tr>\n",
              "            <th>DISTRICT_NAME</th>\n",
              "            <th>M_Prod_Tot</th>\n",
              "        </tr>\n",
              "    </thead>\n",
              "    <tbody>\n",
              "        <tr>\n",
              "            <td>AMUDAT</td>\n",
              "            <td>2081.356199</td>\n",
              "        </tr>\n",
              "        <tr>\n",
              "            <td>KAABONG</td>\n",
              "            <td>136265.6835</td>\n",
              "        </tr>\n",
              "        <tr>\n",
              "            <td>MOROTO</td>\n",
              "            <td>155838.875</td>\n",
              "        </tr>\n",
              "        <tr>\n",
              "            <td>KOTIDO</td>\n",
              "            <td>179681.139</td>\n",
              "        </tr>\n",
              "        <tr>\n",
              "            <td>ABIM</td>\n",
              "            <td>258010.2444</td>\n",
              "        </tr>\n",
              "        <tr>\n",
              "            <td>NAPAK</td>\n",
              "            <td>414509.6206</td>\n",
              "        </tr>\n",
              "        <tr>\n",
              "            <td>NAKAPIRIPIRIT</td>\n",
              "            <td>1198586.875</td>\n",
              "        </tr>\n",
              "    </tbody>\n",
              "</table>"
            ],
            "text/plain": [
              "[('AMUDAT', 2081.356199),\n",
              " ('KAABONG', 136265.6835),\n",
              " ('MOROTO', 155838.875),\n",
              " ('KOTIDO', 179681.139),\n",
              " ('ABIM', 258010.2444),\n",
              " ('NAPAK', 414509.6206),\n",
              " ('NAKAPIRIPIRIT', 1198586.875)]"
            ]
          },
          "metadata": {
            "tags": []
          },
          "execution_count": 20
        }
      ]
    },
    {
      "cell_type": "markdown",
      "metadata": {
        "id": "AaKiSEgzWL3I"
      },
      "source": [
        "# **1.3.5 Compute the number of Sub counties where Maize is produced and the total Maize production per District.**"
      ]
    },
    {
      "cell_type": "code",
      "metadata": {
        "colab": {
          "base_uri": "https://localhost:8080/",
          "height": 199
        },
        "id": "puDZF10eWRAu",
        "outputId": "885db1ca-ac6a-4b54-fe35-0e4eee77645d"
      },
      "source": [
        "# Previewing the dataset\n",
        "%sql SELECT * FROM Uganda LIMIT 5;"
      ],
      "execution_count": 22,
      "outputs": [
        {
          "output_type": "stream",
          "text": [
            " * sqlite://\n",
            "Done.\n"
          ],
          "name": "stdout"
        },
        {
          "output_type": "execute_result",
          "data": {
            "text/html": [
              "<table>\n",
              "    <thead>\n",
              "        <tr>\n",
              "            <th>OBJECTID</th>\n",
              "            <th>SUBCOUNTY_NAME</th>\n",
              "            <th>DISTRICT_NAME</th>\n",
              "            <th>POP</th>\n",
              "            <th>Area</th>\n",
              "            <th>Karamoja</th>\n",
              "            <th>S_Yield_Ha</th>\n",
              "            <th>M_Yield_Ha</th>\n",
              "            <th>Crop_Area_Ha</th>\n",
              "            <th>S_Area_Ha</th>\n",
              "            <th>M_Area_Ha</th>\n",
              "            <th>S_Prod_Tot</th>\n",
              "            <th>M_Prod_Tot</th>\n",
              "        </tr>\n",
              "    </thead>\n",
              "    <tbody>\n",
              "        <tr>\n",
              "            <td>263</td>\n",
              "            <td>KACHERI</td>\n",
              "            <td>KOTIDO</td>\n",
              "            <td>17244</td>\n",
              "            <td>1067176155</td>\n",
              "            <td>Y</td>\n",
              "            <td>354.20741069999997</td>\n",
              "            <td>1137.467019</td>\n",
              "            <td>7023.533691</td>\n",
              "            <td>6434.342449</td>\n",
              "            <td>528.1242294</td>\n",
              "            <td>2279091.779</td>\n",
              "            <td>600723.8929</td>\n",
              "        </tr>\n",
              "        <tr>\n",
              "            <td>264</td>\n",
              "            <td>KOTIDO</td>\n",
              "            <td>KOTIDO</td>\n",
              "            <td>52771</td>\n",
              "            <td>597575188</td>\n",
              "            <td>Y</td>\n",
              "            <td>367.89052319999996</td>\n",
              "            <td>1162.9966869999998</td>\n",
              "            <td>13587.990759999999</td>\n",
              "            <td>12455.59264</td>\n",
              "            <td>824.7670809</td>\n",
              "            <td>4582294.492</td>\n",
              "            <td>959201.3825</td>\n",
              "        </tr>\n",
              "        <tr>\n",
              "            <td>265</td>\n",
              "            <td>KOTIDO TOWN COUNCIL</td>\n",
              "            <td>KOTIDO</td>\n",
              "            <td>27389</td>\n",
              "            <td>23972401</td>\n",
              "            <td>Y</td>\n",
              "            <td>369.3141771</td>\n",
              "            <td>1167.005832</td>\n",
              "            <td>1656.5318550000002</td>\n",
              "            <td>1520.322052</td>\n",
              "            <td>8.561643817</td>\n",
              "            <td>561476.4874</td>\n",
              "            <td>9991.488268000001</td>\n",
              "        </tr>\n",
              "        <tr>\n",
              "            <td>266</td>\n",
              "            <td>NAKAPERIMORU</td>\n",
              "            <td>KOTIDO</td>\n",
              "            <td>38775</td>\n",
              "            <td>419111591</td>\n",
              "            <td>Y</td>\n",
              "            <td>283.3245689</td>\n",
              "            <td>852.3665784</td>\n",
              "            <td>7087.823334000001</td>\n",
              "            <td>6761.488901000001</td>\n",
              "            <td>45.72171184</td>\n",
              "            <td>1915695.928</td>\n",
              "            <td>38971.65908</td>\n",
              "        </tr>\n",
              "        <tr>\n",
              "            <td>267</td>\n",
              "            <td>PANYANGARA</td>\n",
              "            <td>KOTIDO</td>\n",
              "            <td>65704</td>\n",
              "            <td>880955930</td>\n",
              "            <td>Y</td>\n",
              "            <td>373.8369255</td>\n",
              "            <td>1283.859882</td>\n",
              "            <td>10398.24939</td>\n",
              "            <td>10111.198129999999</td>\n",
              "            <td>172.6119139</td>\n",
              "            <td>3779939.224</td>\n",
              "            <td>221609.5114</td>\n",
              "        </tr>\n",
              "    </tbody>\n",
              "</table>"
            ],
            "text/plain": [
              "[(263, 'KACHERI', 'KOTIDO', 17244, 1067176155, 'Y', 354.20741069999997, 1137.467019, 7023.533691, 6434.342449, 528.1242294, 2279091.779, 600723.8929),\n",
              " (264, 'KOTIDO', 'KOTIDO', 52771, 597575188, 'Y', 367.89052319999996, 1162.9966869999998, 13587.990759999999, 12455.59264, 824.7670809, 4582294.492, 959201.3825),\n",
              " (265, 'KOTIDO TOWN COUNCIL', 'KOTIDO', 27389, 23972401, 'Y', 369.3141771, 1167.005832, 1656.5318550000002, 1520.322052, 8.561643817, 561476.4874, 9991.488268000001),\n",
              " (266, 'NAKAPERIMORU', 'KOTIDO', 38775, 419111591, 'Y', 283.3245689, 852.3665784, 7087.823334000001, 6761.488901000001, 45.72171184, 1915695.928, 38971.65908),\n",
              " (267, 'PANYANGARA', 'KOTIDO', 65704, 880955930, 'Y', 373.8369255, 1283.859882, 10398.24939, 10111.198129999999, 172.6119139, 3779939.224, 221609.5114)]"
            ]
          },
          "metadata": {
            "tags": []
          },
          "execution_count": 22
        }
      ]
    },
    {
      "cell_type": "markdown",
      "metadata": {
        "id": "4UPvcUKqWlQt"
      },
      "source": [
        "**Number of subcounties where maize is produced**"
      ]
    },
    {
      "cell_type": "code",
      "metadata": {
        "colab": {
          "base_uri": "https://localhost:8080/",
          "height": 97
        },
        "id": "TgQt7eqvWTWl",
        "outputId": "850712aa-3260-4333-b9ce-1849ea01e7a9"
      },
      "source": [
        "%%sql\n",
        "SELECT COUNT(SUBCOUNTY_NAME) FROM Uganda\n",
        "WHERE M_Prod_Tot > 0;"
      ],
      "execution_count": 23,
      "outputs": [
        {
          "output_type": "stream",
          "text": [
            " * sqlite://\n",
            "Done.\n"
          ],
          "name": "stdout"
        },
        {
          "output_type": "execute_result",
          "data": {
            "text/html": [
              "<table>\n",
              "    <thead>\n",
              "        <tr>\n",
              "            <th>COUNT(SUBCOUNTY_NAME)</th>\n",
              "        </tr>\n",
              "    </thead>\n",
              "    <tbody>\n",
              "        <tr>\n",
              "            <td>51</td>\n",
              "        </tr>\n",
              "    </tbody>\n",
              "</table>"
            ],
            "text/plain": [
              "[(51,)]"
            ]
          },
          "metadata": {
            "tags": []
          },
          "execution_count": 23
        }
      ]
    },
    {
      "cell_type": "markdown",
      "metadata": {
        "id": "2kCuMzNnXIlr"
      },
      "source": [
        "Total maize production per district\n"
      ]
    },
    {
      "cell_type": "code",
      "metadata": {
        "id": "1sAhoEnCXGZ1"
      },
      "source": [
        "%%sql\n",
        "SELECT DISTRICT_NAME, M_Prod_Tot FROM Uganda\n",
        "GROUP BY  DISTRICT_NAME\n",
        "ORDER BY M_Prod_Tot ASC;"
      ],
      "execution_count": null,
      "outputs": []
    },
    {
      "cell_type": "markdown",
      "metadata": {
        "id": "Y6UozIiNXWvV"
      },
      "source": [
        "# **1.3.6 Compute the overall Crop area in all Sub counties where population is over 20000.**"
      ]
    },
    {
      "cell_type": "code",
      "metadata": {
        "colab": {
          "base_uri": "https://localhost:8080/",
          "height": 199
        },
        "id": "pC4If04rXc0S",
        "outputId": "91eb60fb-1db7-43ba-ba75-a8be7539e1f5"
      },
      "source": [
        "# Previewing the dataset\n",
        "%sql SELECT * FROM Uganda LIMIT 5;"
      ],
      "execution_count": 24,
      "outputs": [
        {
          "output_type": "stream",
          "text": [
            " * sqlite://\n",
            "Done.\n"
          ],
          "name": "stdout"
        },
        {
          "output_type": "execute_result",
          "data": {
            "text/html": [
              "<table>\n",
              "    <thead>\n",
              "        <tr>\n",
              "            <th>OBJECTID</th>\n",
              "            <th>SUBCOUNTY_NAME</th>\n",
              "            <th>DISTRICT_NAME</th>\n",
              "            <th>POP</th>\n",
              "            <th>Area</th>\n",
              "            <th>Karamoja</th>\n",
              "            <th>S_Yield_Ha</th>\n",
              "            <th>M_Yield_Ha</th>\n",
              "            <th>Crop_Area_Ha</th>\n",
              "            <th>S_Area_Ha</th>\n",
              "            <th>M_Area_Ha</th>\n",
              "            <th>S_Prod_Tot</th>\n",
              "            <th>M_Prod_Tot</th>\n",
              "        </tr>\n",
              "    </thead>\n",
              "    <tbody>\n",
              "        <tr>\n",
              "            <td>263</td>\n",
              "            <td>KACHERI</td>\n",
              "            <td>KOTIDO</td>\n",
              "            <td>17244</td>\n",
              "            <td>1067176155</td>\n",
              "            <td>Y</td>\n",
              "            <td>354.20741069999997</td>\n",
              "            <td>1137.467019</td>\n",
              "            <td>7023.533691</td>\n",
              "            <td>6434.342449</td>\n",
              "            <td>528.1242294</td>\n",
              "            <td>2279091.779</td>\n",
              "            <td>600723.8929</td>\n",
              "        </tr>\n",
              "        <tr>\n",
              "            <td>264</td>\n",
              "            <td>KOTIDO</td>\n",
              "            <td>KOTIDO</td>\n",
              "            <td>52771</td>\n",
              "            <td>597575188</td>\n",
              "            <td>Y</td>\n",
              "            <td>367.89052319999996</td>\n",
              "            <td>1162.9966869999998</td>\n",
              "            <td>13587.990759999999</td>\n",
              "            <td>12455.59264</td>\n",
              "            <td>824.7670809</td>\n",
              "            <td>4582294.492</td>\n",
              "            <td>959201.3825</td>\n",
              "        </tr>\n",
              "        <tr>\n",
              "            <td>265</td>\n",
              "            <td>KOTIDO TOWN COUNCIL</td>\n",
              "            <td>KOTIDO</td>\n",
              "            <td>27389</td>\n",
              "            <td>23972401</td>\n",
              "            <td>Y</td>\n",
              "            <td>369.3141771</td>\n",
              "            <td>1167.005832</td>\n",
              "            <td>1656.5318550000002</td>\n",
              "            <td>1520.322052</td>\n",
              "            <td>8.561643817</td>\n",
              "            <td>561476.4874</td>\n",
              "            <td>9991.488268000001</td>\n",
              "        </tr>\n",
              "        <tr>\n",
              "            <td>266</td>\n",
              "            <td>NAKAPERIMORU</td>\n",
              "            <td>KOTIDO</td>\n",
              "            <td>38775</td>\n",
              "            <td>419111591</td>\n",
              "            <td>Y</td>\n",
              "            <td>283.3245689</td>\n",
              "            <td>852.3665784</td>\n",
              "            <td>7087.823334000001</td>\n",
              "            <td>6761.488901000001</td>\n",
              "            <td>45.72171184</td>\n",
              "            <td>1915695.928</td>\n",
              "            <td>38971.65908</td>\n",
              "        </tr>\n",
              "        <tr>\n",
              "            <td>267</td>\n",
              "            <td>PANYANGARA</td>\n",
              "            <td>KOTIDO</td>\n",
              "            <td>65704</td>\n",
              "            <td>880955930</td>\n",
              "            <td>Y</td>\n",
              "            <td>373.8369255</td>\n",
              "            <td>1283.859882</td>\n",
              "            <td>10398.24939</td>\n",
              "            <td>10111.198129999999</td>\n",
              "            <td>172.6119139</td>\n",
              "            <td>3779939.224</td>\n",
              "            <td>221609.5114</td>\n",
              "        </tr>\n",
              "    </tbody>\n",
              "</table>"
            ],
            "text/plain": [
              "[(263, 'KACHERI', 'KOTIDO', 17244, 1067176155, 'Y', 354.20741069999997, 1137.467019, 7023.533691, 6434.342449, 528.1242294, 2279091.779, 600723.8929),\n",
              " (264, 'KOTIDO', 'KOTIDO', 52771, 597575188, 'Y', 367.89052319999996, 1162.9966869999998, 13587.990759999999, 12455.59264, 824.7670809, 4582294.492, 959201.3825),\n",
              " (265, 'KOTIDO TOWN COUNCIL', 'KOTIDO', 27389, 23972401, 'Y', 369.3141771, 1167.005832, 1656.5318550000002, 1520.322052, 8.561643817, 561476.4874, 9991.488268000001),\n",
              " (266, 'NAKAPERIMORU', 'KOTIDO', 38775, 419111591, 'Y', 283.3245689, 852.3665784, 7087.823334000001, 6761.488901000001, 45.72171184, 1915695.928, 38971.65908),\n",
              " (267, 'PANYANGARA', 'KOTIDO', 65704, 880955930, 'Y', 373.8369255, 1283.859882, 10398.24939, 10111.198129999999, 172.6119139, 3779939.224, 221609.5114)]"
            ]
          },
          "metadata": {
            "tags": []
          },
          "execution_count": 24
        }
      ]
    },
    {
      "cell_type": "code",
      "metadata": {
        "colab": {
          "base_uri": "https://localhost:8080/",
          "height": 97
        },
        "id": "dVLlHfovXm14",
        "outputId": "3435d3ad-ca6a-411c-ec5a-3734f1414c17"
      },
      "source": [
        "%%sql\n",
        "SELECT AVG(Crop_Area_Ha) FROM Uganda\n",
        "WHERE POP > 20000;"
      ],
      "execution_count": 26,
      "outputs": [
        {
          "output_type": "stream",
          "text": [
            " * sqlite://\n",
            "Done.\n"
          ],
          "name": "stdout"
        },
        {
          "output_type": "execute_result",
          "data": {
            "text/html": [
              "<table>\n",
              "    <thead>\n",
              "        <tr>\n",
              "            <th>AVG(Crop_Area_Ha)</th>\n",
              "        </tr>\n",
              "    </thead>\n",
              "    <tbody>\n",
              "        <tr>\n",
              "            <td>3756.652817353124</td>\n",
              "        </tr>\n",
              "    </tbody>\n",
              "</table>"
            ],
            "text/plain": [
              "[(3756.652817353124,)]"
            ]
          },
          "metadata": {
            "tags": []
          },
          "execution_count": 26
        }
      ]
    },
    {
      "cell_type": "markdown",
      "metadata": {
        "id": "5Ha9CCljaXf8"
      },
      "source": [
        "# **1.3.7 Sort the Maize production in descending order by Districts, only taking into account Sub counties where Maize area is larger than Sorghum area, and display the number of Sub counties per district matching that criteria.**"
      ]
    },
    {
      "cell_type": "code",
      "metadata": {
        "colab": {
          "base_uri": "https://localhost:8080/",
          "height": 199
        },
        "id": "7O7BnA7Sadw4",
        "outputId": "a94bb5bc-fd84-43b3-ff1b-41f10dcb7040"
      },
      "source": [
        "# Previewing the dataset\n",
        "%sql SELECT * FROM Uganda LIMIT 5;"
      ],
      "execution_count": 27,
      "outputs": [
        {
          "output_type": "stream",
          "text": [
            " * sqlite://\n",
            "Done.\n"
          ],
          "name": "stdout"
        },
        {
          "output_type": "execute_result",
          "data": {
            "text/html": [
              "<table>\n",
              "    <thead>\n",
              "        <tr>\n",
              "            <th>OBJECTID</th>\n",
              "            <th>SUBCOUNTY_NAME</th>\n",
              "            <th>DISTRICT_NAME</th>\n",
              "            <th>POP</th>\n",
              "            <th>Area</th>\n",
              "            <th>Karamoja</th>\n",
              "            <th>S_Yield_Ha</th>\n",
              "            <th>M_Yield_Ha</th>\n",
              "            <th>Crop_Area_Ha</th>\n",
              "            <th>S_Area_Ha</th>\n",
              "            <th>M_Area_Ha</th>\n",
              "            <th>S_Prod_Tot</th>\n",
              "            <th>M_Prod_Tot</th>\n",
              "        </tr>\n",
              "    </thead>\n",
              "    <tbody>\n",
              "        <tr>\n",
              "            <td>263</td>\n",
              "            <td>KACHERI</td>\n",
              "            <td>KOTIDO</td>\n",
              "            <td>17244</td>\n",
              "            <td>1067176155</td>\n",
              "            <td>Y</td>\n",
              "            <td>354.20741069999997</td>\n",
              "            <td>1137.467019</td>\n",
              "            <td>7023.533691</td>\n",
              "            <td>6434.342449</td>\n",
              "            <td>528.1242294</td>\n",
              "            <td>2279091.779</td>\n",
              "            <td>600723.8929</td>\n",
              "        </tr>\n",
              "        <tr>\n",
              "            <td>264</td>\n",
              "            <td>KOTIDO</td>\n",
              "            <td>KOTIDO</td>\n",
              "            <td>52771</td>\n",
              "            <td>597575188</td>\n",
              "            <td>Y</td>\n",
              "            <td>367.89052319999996</td>\n",
              "            <td>1162.9966869999998</td>\n",
              "            <td>13587.990759999999</td>\n",
              "            <td>12455.59264</td>\n",
              "            <td>824.7670809</td>\n",
              "            <td>4582294.492</td>\n",
              "            <td>959201.3825</td>\n",
              "        </tr>\n",
              "        <tr>\n",
              "            <td>265</td>\n",
              "            <td>KOTIDO TOWN COUNCIL</td>\n",
              "            <td>KOTIDO</td>\n",
              "            <td>27389</td>\n",
              "            <td>23972401</td>\n",
              "            <td>Y</td>\n",
              "            <td>369.3141771</td>\n",
              "            <td>1167.005832</td>\n",
              "            <td>1656.5318550000002</td>\n",
              "            <td>1520.322052</td>\n",
              "            <td>8.561643817</td>\n",
              "            <td>561476.4874</td>\n",
              "            <td>9991.488268000001</td>\n",
              "        </tr>\n",
              "        <tr>\n",
              "            <td>266</td>\n",
              "            <td>NAKAPERIMORU</td>\n",
              "            <td>KOTIDO</td>\n",
              "            <td>38775</td>\n",
              "            <td>419111591</td>\n",
              "            <td>Y</td>\n",
              "            <td>283.3245689</td>\n",
              "            <td>852.3665784</td>\n",
              "            <td>7087.823334000001</td>\n",
              "            <td>6761.488901000001</td>\n",
              "            <td>45.72171184</td>\n",
              "            <td>1915695.928</td>\n",
              "            <td>38971.65908</td>\n",
              "        </tr>\n",
              "        <tr>\n",
              "            <td>267</td>\n",
              "            <td>PANYANGARA</td>\n",
              "            <td>KOTIDO</td>\n",
              "            <td>65704</td>\n",
              "            <td>880955930</td>\n",
              "            <td>Y</td>\n",
              "            <td>373.8369255</td>\n",
              "            <td>1283.859882</td>\n",
              "            <td>10398.24939</td>\n",
              "            <td>10111.198129999999</td>\n",
              "            <td>172.6119139</td>\n",
              "            <td>3779939.224</td>\n",
              "            <td>221609.5114</td>\n",
              "        </tr>\n",
              "    </tbody>\n",
              "</table>"
            ],
            "text/plain": [
              "[(263, 'KACHERI', 'KOTIDO', 17244, 1067176155, 'Y', 354.20741069999997, 1137.467019, 7023.533691, 6434.342449, 528.1242294, 2279091.779, 600723.8929),\n",
              " (264, 'KOTIDO', 'KOTIDO', 52771, 597575188, 'Y', 367.89052319999996, 1162.9966869999998, 13587.990759999999, 12455.59264, 824.7670809, 4582294.492, 959201.3825),\n",
              " (265, 'KOTIDO TOWN COUNCIL', 'KOTIDO', 27389, 23972401, 'Y', 369.3141771, 1167.005832, 1656.5318550000002, 1520.322052, 8.561643817, 561476.4874, 9991.488268000001),\n",
              " (266, 'NAKAPERIMORU', 'KOTIDO', 38775, 419111591, 'Y', 283.3245689, 852.3665784, 7087.823334000001, 6761.488901000001, 45.72171184, 1915695.928, 38971.65908),\n",
              " (267, 'PANYANGARA', 'KOTIDO', 65704, 880955930, 'Y', 373.8369255, 1283.859882, 10398.24939, 10111.198129999999, 172.6119139, 3779939.224, 221609.5114)]"
            ]
          },
          "metadata": {
            "tags": []
          },
          "execution_count": 27
        }
      ]
    },
    {
      "cell_type": "code",
      "metadata": {
        "colab": {
          "base_uri": "https://localhost:8080/",
          "height": 224
        },
        "id": "Mhl-88eIai_g",
        "outputId": "7b356404-696a-41be-e6f1-be4862e290c9"
      },
      "source": [
        "%%sql\n",
        "SELECT DISTRICT_NAME, COUNT(SUBCOUNTY_NAME) FROM Uganda \n",
        "WHERE M_Yield_Ha > Uganda.S_Yield_Ha\n",
        "GROUP BY DISTRICT_NAME\n",
        "ORDER BY M_Prod_Tot DESC;"
      ],
      "execution_count": 32,
      "outputs": [
        {
          "output_type": "stream",
          "text": [
            " * sqlite://\n",
            "Done.\n"
          ],
          "name": "stdout"
        },
        {
          "output_type": "execute_result",
          "data": {
            "text/html": [
              "<table>\n",
              "    <thead>\n",
              "        <tr>\n",
              "            <th>DISTRICT_NAME</th>\n",
              "            <th>COUNT(SUBCOUNTY_NAME)</th>\n",
              "        </tr>\n",
              "    </thead>\n",
              "    <tbody>\n",
              "        <tr>\n",
              "            <td>NAKAPIRIPIRIT</td>\n",
              "            <td>8</td>\n",
              "        </tr>\n",
              "        <tr>\n",
              "            <td>NAPAK</td>\n",
              "            <td>8</td>\n",
              "        </tr>\n",
              "        <tr>\n",
              "            <td>ABIM</td>\n",
              "            <td>6</td>\n",
              "        </tr>\n",
              "        <tr>\n",
              "            <td>KOTIDO</td>\n",
              "            <td>6</td>\n",
              "        </tr>\n",
              "        <tr>\n",
              "            <td>MOROTO</td>\n",
              "            <td>5</td>\n",
              "        </tr>\n",
              "        <tr>\n",
              "            <td>KAABONG</td>\n",
              "            <td>14</td>\n",
              "        </tr>\n",
              "        <tr>\n",
              "            <td>AMUDAT</td>\n",
              "            <td>4</td>\n",
              "        </tr>\n",
              "    </tbody>\n",
              "</table>"
            ],
            "text/plain": [
              "[('NAKAPIRIPIRIT', 8),\n",
              " ('NAPAK', 8),\n",
              " ('ABIM', 6),\n",
              " ('KOTIDO', 6),\n",
              " ('MOROTO', 5),\n",
              " ('KAABONG', 14),\n",
              " ('AMUDAT', 4)]"
            ]
          },
          "metadata": {
            "tags": []
          },
          "execution_count": 32
        }
      ]
    }
  ]
}