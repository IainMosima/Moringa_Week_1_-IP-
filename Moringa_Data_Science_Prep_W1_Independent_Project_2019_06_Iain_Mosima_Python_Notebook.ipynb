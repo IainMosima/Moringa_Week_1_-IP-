{
  "nbformat": 4,
  "nbformat_minor": 0,
  "metadata": {
    "colab": {
      "name": "Moringa_Data_Science_Prep_W1_Independent_Project_2019_06_Iain_Mosima_Python_Notebook",
      "provenance": []
    },
    "kernelspec": {
      "name": "python3",
      "display_name": "Python 3"
    },
    "language_info": {
      "name": "python"
    }
  },
  "cells": [
    {
      "cell_type": "markdown",
      "metadata": {
        "id": "3mxY80mt-cYr"
      },
      "source": [
        "# **PYTHON PROGRAMMING**\n"
      ]
    },
    {
      "cell_type": "markdown",
      "metadata": {
        "id": "-2daC1bm-ePJ"
      },
      "source": [
        "Write python programs that should be able to perform the given operations then, display the results of the operations.\n",
        "\n",
        "1. Take in two values from a user (both in pounds) then convert those values  to kilograms.\n",
        "2. Perform the sum of the values.\n",
        "3. Perform the average of the values.\n",
        "4. Find the difference between both values.  \n",
        "5. Find the quotient when one value is divided by the other.\n",
        "6. Determine and print out whether any of the numbers are even or add.\n",
        "7. Have comments applied appropriately.\n",
        "\n",
        "\n",
        "\n"
      ]
    },
    {
      "cell_type": "code",
      "metadata": {
        "colab": {
          "base_uri": "https://localhost:8080/"
        },
        "id": "Gs0s-JZF3jfg",
        "outputId": "aeaf5433-8b7a-40e3-ff6f-6fd3d6c2878f"
      },
      "source": [
        "value1 = float(input(\"Input value one (In pounds): \")) # prompt user for value one\n",
        "value2 = float(input(\"Input value two (In pounds): \")) # prompt user for value two\n",
        "\n",
        "value1kg = value1 * 0.453592 # converting value1 from pounds into kilograms\n",
        "value2kg = value2 * 0.453592 # converting value2 from pounds into kilograms\n",
        "\n",
        "sum = value1kg + value2kg # this code computes the sum of the two values\n",
        "average = sum/2 # computes the average of the two values\n",
        "diff = value1kg - value2kg # computes the difference of the two values\n",
        "quotient1 = value1kg//value2kg # computes the quotient when value1 is divided by value2\n",
        "quotient2 = value2kg//value1kg # computes the quotient when value2 is divides by value1\n",
        "\n",
        "print(\"The sum of the values is: \" +str(sum)+ \" kilograms\") # print the sum\n",
        "print(\"The average of the values is: \" +str(average)+ \" kilograms\") # print the average\n",
        "print(\"The difference between both values is: \" +str(diff)+ \" kilograms\") # print the differene\n",
        "print(\"The quotient when value one is divided by value two is: \" +str(quotient1)+ \" kilograms\") # print quotient1\n",
        "print(\"The quotient when value two is divided by value one is: \" +str(quotient2)+ \" kilograms\") # print quotient2\n",
        "\n",
        "# check whether value1 is odd or even\n",
        "if value1%2 == 0:\n",
        "    print(value1, \" pounds is an even number (Value one)\")\n",
        "else:\n",
        "    print(value1, \" pounds is an odd number (Value one)\")\n",
        "\n",
        "# check whether value1kg is odd or even\n",
        "if value1kg%2 == 0:\n",
        "    print(value1kg, \" kilograms is an even number (value 1 in kilograms)\")\n",
        "else:\n",
        "    print(value1kg, \" kilograms is an odd number (value 1 in kilograms)\")\n",
        "\n",
        "# check whether value2 is odd or even\n",
        "if value2%2 == 0:\n",
        "    print(value2, \" pounds is an even number (Value two)\")\n",
        "else:\n",
        "    print(value2, \" pounds is an odd number (Value two)\")\n",
        "\n",
        "# check whether value2kg is odd or even\n",
        "if value2kg%2 == 0:\n",
        "    print(value2kg, \" kilograms is an even number (value 2 in kilograms)\")\n",
        "else:\n",
        "    print(value2kg, \" kilograms is an odd number (value 2 in kilograms)\")"
      ],
      "execution_count": 11,
      "outputs": [
        {
          "output_type": "stream",
          "text": [
            "Input value one (In pounds): 59\n",
            "Input value two (In pounds): 90\n",
            "The sum of the values is: 67.585208 kilograms\n",
            "The average of the values is: 33.792604 kilograms\n",
            "The difference between both values is: -14.061351999999996 kilograms\n",
            "The quotient when value one is divided by value two is: 0.0 kilograms\n",
            "The quotient when value two is divided by value one is: 1.0 kilograms\n",
            "59.0  pounds is an odd number (Value one)\n",
            "26.761928  kilograms is an odd number (value 1 in kilograms)\n",
            "90.0  pounds is an even number (Value two)\n",
            "40.82328  kilograms is an odd number (value 2 in kilograms)\n"
          ],
          "name": "stdout"
        }
      ]
    }
  ]
}